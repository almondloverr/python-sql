{
  "cells": [
    {
      "cell_type": "markdown",
      "metadata": {
        "id": "qLrHI6Z_U8z5"
      },
      "source": [
        "Формула интеграла $x^2$  по x:\n",
        "$$\\int x^2\\, dx$$"
      ]
    },
    {
      "cell_type": "markdown",
      "metadata": {
        "id": "trM-iErCVA3Q"
      },
      "source": [
        "Формула определенного интеграла: \n",
        "$$\\int_{a}^{b}x^2dx$$"
      ]
    },
    {
      "cell_type": "markdown",
      "metadata": {
        "id": "isay5LxMJ13T"
      },
      "source": [
        "1. Распечатать второе значение списка."
      ]
    },
    {
      "cell_type": "code",
      "execution_count": 1,
      "metadata": {
        "colab": {
          "base_uri": "https://localhost:8080/",
          "height": 35
        },
        "id": "nE_EgAJYJ13U",
        "outputId": "bd3fc471-2a7f-42be-c44c-658966ff5ada"
      },
      "outputs": [
        {
          "data": {
            "text/plain": [
              "'банан'"
            ]
          },
          "execution_count": 1,
          "metadata": {},
          "output_type": "execute_result"
        }
      ],
      "source": [
        "fruits = [\"яблоко\", \"банан\", \"вишня\"]\n",
        "fruits[1]"
      ]
    },
    {
      "cell_type": "markdown",
      "metadata": {
        "id": "wJNH-mFuJ13U"
      },
      "source": [
        "2. Поменять значение \"яблоко\" на \"киви\"."
      ]
    },
    {
      "cell_type": "code",
      "execution_count": 2,
      "metadata": {
        "colab": {
          "base_uri": "https://localhost:8080/"
        },
        "id": "I0UC_lT2J13V",
        "outputId": "d66d6d27-10c8-4687-f1e7-137b7c7a1358"
      },
      "outputs": [
        {
          "data": {
            "text/plain": [
              "['киви', 'банан', 'вишня']"
            ]
          },
          "execution_count": 2,
          "metadata": {},
          "output_type": "execute_result"
        }
      ],
      "source": [
        "fruits = [\"яблоко\", \"банан\", \"вишня\"]\n",
        "fruits[0]='киви'\n",
        "fruits"
      ]
    },
    {
      "cell_type": "markdown",
      "metadata": {
        "id": "kGy4lG6WJ13V"
      },
      "source": [
        "3. Добавить к списку \"апельсин\"."
      ]
    },
    {
      "cell_type": "code",
      "execution_count": 3,
      "metadata": {
        "colab": {
          "base_uri": "https://localhost:8080/"
        },
        "id": "8QrCTFg0J13W",
        "outputId": "689b2d20-649e-40fb-ec81-7fde0dc872bf"
      },
      "outputs": [
        {
          "data": {
            "text/plain": [
              "['яблоко', 'банан', 'вишня', 'апельсин']"
            ]
          },
          "execution_count": 3,
          "metadata": {},
          "output_type": "execute_result"
        }
      ],
      "source": [
        "fruits = [\"яблоко\", \"банан\", \"вишня\"]\n",
        "fruits.append('апельсин')\n",
        "fruits"
      ]
    },
    {
      "cell_type": "markdown",
      "metadata": {
        "id": "XQ0G7woAJ13W"
      },
      "source": [
        "4. В имеющийся список _fruits_ вставить элемент \"лимон\" на вторую позицию."
      ]
    },
    {
      "cell_type": "code",
      "execution_count": 4,
      "metadata": {
        "colab": {
          "base_uri": "https://localhost:8080/"
        },
        "id": "MFMv8GT2J13X",
        "outputId": "32916c15-703e-4034-c265-d52290944ec9"
      },
      "outputs": [
        {
          "data": {
            "text/plain": [
              "['яблоко', 'лимон', 'банан', 'вишня']"
            ]
          },
          "execution_count": 4,
          "metadata": {},
          "output_type": "execute_result"
        }
      ],
      "source": [
        "fruits = [\"яблоко\", \"банан\", \"вишня\"]\n",
        "fruits.insert(1, 'лимон')\n",
        "fruits"
      ]
    },
    {
      "cell_type": "markdown",
      "metadata": {
        "id": "gbjAEmcvJ13X"
      },
      "source": [
        "5. Из списка _fruits_ удалить элемент \"банан\"."
      ]
    },
    {
      "cell_type": "code",
      "execution_count": 5,
      "metadata": {
        "colab": {
          "base_uri": "https://localhost:8080/"
        },
        "id": "RVkVbSBLJ13Y",
        "outputId": "b5686d53-99c0-4e12-9350-12fbc509a570"
      },
      "outputs": [
        {
          "data": {
            "text/plain": [
              "['яблоко', 'вишня']"
            ]
          },
          "execution_count": 5,
          "metadata": {},
          "output_type": "execute_result"
        }
      ],
      "source": [
        "fruits = [\"яблоко\", \"банан\", \"вишня\"]\n",
        "fruits.pop(1)\n",
        "fruits"
      ]
    },
    {
      "cell_type": "markdown",
      "metadata": {
        "id": "ILE35o_jJ13Y"
      },
      "source": [
        "6. Имеется строка `'SIX, SEVEN, EIGHT, NINE, TEN'`. Инвертировать последовательность слов, разделенных запятыми. Ожидается результат: `'TEN, NINE, EIGHT, SEVEN, SIX'`."
      ]
    },
    {
      "cell_type": "code",
      "execution_count": 6,
      "metadata": {
        "colab": {
          "base_uri": "https://localhost:8080/",
          "height": 35
        },
        "id": "SYYSgcU_J13Y",
        "outputId": "2fe758bd-bb7b-44d2-cd4d-82998a4f55ed"
      },
      "outputs": [
        {
          "data": {
            "text/plain": [
              "'TEN, NINE, EIGHT, SEVEN, SIX'"
            ]
          },
          "execution_count": 6,
          "metadata": {},
          "output_type": "execute_result"
        }
      ],
      "source": [
        "s = \"SIX, SEVEN, EIGHT, NINE, TEN\"\n",
        "s = s.split(\", \")[::-1]\n",
        "s = ', '.join(s)\n",
        "s"
      ]
    },
    {
      "cell_type": "markdown",
      "metadata": {
        "id": "UU6X0K8JJ13Z"
      },
      "source": [
        "7. В строке, содержащей последовательность слов, обозначающих числа\n",
        "```\n",
        "'НОЛЬ,ОДИН,ДВА,ТРИ,ЧЕТЫРЕ,ПЯТЬ,ШЕСТЬ,СЕМЬ,ВОСЕМЬ,ДЕВЯТЬ'\n",
        "```\n",
        "удалить слова, обозначающие нечетные числа. Ответ представить в виде строки."
      ]
    },
    {
      "cell_type": "code",
      "execution_count": 7,
      "metadata": {
        "colab": {
          "base_uri": "https://localhost:8080/",
          "height": 35
        },
        "id": "c_QRAOb6J13Z",
        "outputId": "7adee3ea-88ee-4505-8e50-6f46b9caf76c"
      },
      "outputs": [
        {
          "data": {
            "text/plain": [
              "'НОЛЬ, ДВА, ЧЕТЫРЕ, ШЕСТЬ, ВОСЕМЬ'"
            ]
          },
          "execution_count": 7,
          "metadata": {},
          "output_type": "execute_result"
        }
      ],
      "source": [
        "s='НОЛЬ,ОДИН,ДВА,ТРИ,ЧЕТЫРЕ,ПЯТЬ,ШЕСТЬ,СЕМЬ,ВОСЕМЬ,ДЕВЯТЬ'\n",
        "s = ', '.join(s.split(',')[::2])\n",
        "s"
      ]
    },
    {
      "cell_type": "markdown",
      "metadata": {
        "id": "gZDnLLPtJ13Z"
      },
      "source": [
        "8. Дана статистика расходов на рекламную кампанию по каналу ('source'), расходам ('cost') и прибыли от рекламы ('profit').\n",
        "```\n",
        "ads = [\n",
        "    {'cost':98, 'source':'vk', 'profit':150},\n",
        "    {'cost':153, 'source':'yandex', 'profit':270},\n",
        "    {'cost':110, 'source':'facebook', 'profit':201}\n",
        "]\n",
        "```\n",
        "Найти канал, обеспечивший максимальную эффективность = прибыль/расходы. Распечатать название канала и значение эффективности, округленное до двух десятичных знаков."
      ]
    },
    {
      "cell_type": "code",
      "execution_count": 8,
      "metadata": {
        "colab": {
          "base_uri": "https://localhost:8080/"
        },
        "id": "weo58BGpJ13Z",
        "outputId": "d708c795-c208-487c-b55d-703b8c81df0c"
      },
      "outputs": [
        {
          "name": "stdout",
          "output_type": "stream",
          "text": [
            "efficiency of facebook is 1.83\n"
          ]
        }
      ],
      "source": [
        "ads = [\n",
        "    {'cost':98, 'source':'vk', 'profit':150},\n",
        "    {'cost':153, 'source':'yandex', 'profit':270},\n",
        "    {'cost':110, 'source':'facebook', 'profit':201}\n",
        "]\n",
        "\n",
        "eff = 0\n",
        "for i in ads:\n",
        "  if i['profit']/i['cost'] > eff:\n",
        "    eff = i['profit']/i['cost']\n",
        "    src = i['source']\n",
        "\n",
        "print('efficiency of', src, 'is', round(eff, 2))   \n"
      ]
    },
    {
      "cell_type": "code",
      "execution_count": 9,
      "metadata": {
        "id": "QSNduIUqTto1"
      },
      "outputs": [],
      "source": [
        "# решение, но в 1 строку и не моё\n",
        "# print(max([int(i['profit']/i['cost']*100)/100 for i in ads]))"
      ]
    },
    {
      "cell_type": "markdown",
      "metadata": {
        "id": "0Swo2EBfY5kO"
      },
      "source": [
        "Создать таблицу, добавить в нее столбец с эффективностью, выделить строчку с максимальной эффективностью."
      ]
    },
    {
      "cell_type": "code",
      "execution_count": 10,
      "metadata": {
        "colab": {
          "base_uri": "https://localhost:8080/",
          "height": 142
        },
        "id": "MDI-83S-UjJI",
        "outputId": "886e1c26-179c-49f5-f95a-a0858c806666"
      },
      "outputs": [
        {
          "data": {
            "text/html": [
              "<div>\n",
              "<style scoped>\n",
              "    .dataframe tbody tr th:only-of-type {\n",
              "        vertical-align: middle;\n",
              "    }\n",
              "\n",
              "    .dataframe tbody tr th {\n",
              "        vertical-align: top;\n",
              "    }\n",
              "\n",
              "    .dataframe thead th {\n",
              "        text-align: right;\n",
              "    }\n",
              "</style>\n",
              "<table border=\"1\" class=\"dataframe\">\n",
              "  <thead>\n",
              "    <tr style=\"text-align: right;\">\n",
              "      <th></th>\n",
              "      <th>cost</th>\n",
              "      <th>source</th>\n",
              "      <th>profit</th>\n",
              "      <th>efficiency</th>\n",
              "    </tr>\n",
              "  </thead>\n",
              "  <tbody>\n",
              "    <tr>\n",
              "      <th>0</th>\n",
              "      <td>98</td>\n",
              "      <td>vk</td>\n",
              "      <td>150</td>\n",
              "      <td>1.53</td>\n",
              "    </tr>\n",
              "    <tr>\n",
              "      <th>1</th>\n",
              "      <td>153</td>\n",
              "      <td>yandex</td>\n",
              "      <td>270</td>\n",
              "      <td>1.76</td>\n",
              "    </tr>\n",
              "    <tr>\n",
              "      <th>2</th>\n",
              "      <td>110</td>\n",
              "      <td>facebook</td>\n",
              "      <td>201</td>\n",
              "      <td>1.83</td>\n",
              "    </tr>\n",
              "  </tbody>\n",
              "</table>\n",
              "</div>"
            ],
            "text/plain": [
              "   cost    source  profit  efficiency\n",
              "0    98        vk     150        1.53\n",
              "1   153    yandex     270        1.76\n",
              "2   110  facebook     201        1.83"
            ]
          },
          "execution_count": 10,
          "metadata": {},
          "output_type": "execute_result"
        }
      ],
      "source": [
        "import pandas as pd\n",
        "df = pd.DataFrame(ads)\n",
        "df['efficiency'] = round(df['profit']/df['cost'], 2)\n",
        "df"
      ]
    },
    {
      "cell_type": "code",
      "execution_count": 11,
      "metadata": {
        "colab": {
          "base_uri": "https://localhost:8080/"
        },
        "id": "MiPALmWjVoRg",
        "outputId": "46db8cb3-d59d-44a5-f349-7189dc524a5a"
      },
      "outputs": [
        {
          "data": {
            "text/plain": [
              "cost               110\n",
              "source        facebook\n",
              "profit             201\n",
              "efficiency        1.83\n",
              "Name: 2, dtype: object"
            ]
          },
          "execution_count": 11,
          "metadata": {},
          "output_type": "execute_result"
        }
      ],
      "source": [
        "df.iloc[df['efficiency'].argmax()]"
      ]
    },
    {
      "cell_type": "code",
      "execution_count": null,
      "metadata": {
        "id": "v9-4epRNcAFg"
      },
      "outputs": [],
      "source": []
    }
  ],
  "metadata": {
    "colab": {
      "name": "Lim_sem10.02.ipynb",
      "provenance": []
    },
    "kernelspec": {
      "display_name": "Python 3",
      "language": "python",
      "name": "python3"
    },
    "language_info": {
      "codemirror_mode": {
        "name": "ipython",
        "version": 3
      },
      "file_extension": ".py",
      "mimetype": "text/x-python",
      "name": "python",
      "nbconvert_exporter": "python",
      "pygments_lexer": "ipython3",
      "version": "3.10.1"
    }
  },
  "nbformat": 4,
  "nbformat_minor": 0
}
